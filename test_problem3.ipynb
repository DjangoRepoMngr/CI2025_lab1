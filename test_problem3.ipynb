{
 "cells": [
  {
   "cell_type": "code",
   "execution_count": 1,
   "id": "c0882a9f",
   "metadata": {},
   "outputs": [],
   "source": [
    "import numpy as np"
   ]
  },
  {
   "cell_type": "markdown",
   "id": "8e0e0673",
   "metadata": {},
   "source": [
    "## TEST PROBLEMS"
   ]
  },
  {
   "cell_type": "code",
   "execution_count": 2,
   "id": "117380d6",
   "metadata": {},
   "outputs": [],
   "source": [
    "# Problem 3:\n",
    "rng = np.random.default_rng(seed=42)\n",
    "NUM_KNAPSACKS = 100\n",
    "NUM_ITEMS = 5000\n",
    "NUM_DIMENSIONS = 100\n",
    "VALUES = rng.integers(0, 1000, size=NUM_ITEMS)\n",
    "WEIGHTS = rng.integers(0, 1000, size=(NUM_ITEMS, NUM_DIMENSIONS))\n",
    "CONSTRAINTS = rng.integers(\n",
    "    1000 * 10, 1000 * 2 * NUM_ITEMS // NUM_KNAPSACKS, size=(NUM_KNAPSACKS, NUM_DIMENSIONS)\n",
    ")"
   ]
  },
  {
   "cell_type": "code",
   "execution_count": 3,
   "id": "2bbe1e02",
   "metadata": {},
   "outputs": [],
   "source": [
    "from solvers import hill_climbing, tabu_search, iterated_local_search, simulated_annealing, is_feasible_assignment\n"
   ]
  },
  {
   "cell_type": "code",
   "execution_count": null,
   "id": "56736e1a",
   "metadata": {},
   "outputs": [
    {
     "name": "stdout",
     "output_type": "stream",
     "text": [
      "[HC-3] Best value: 1823710\n",
      "[HC-3] Feasible: True\n",
      "[HC-3] Items assigned: 2439 / 5000\n",
      "[HC-3] Time: 2.89s\n"
     ]
    }
   ],
   "source": [
    "# Run naive hill climbing\n",
    "import time\n",
    "rng = np.random.default_rng(123)\n",
    "start = time.perf_counter()\n",
    "best_assignment_hc3, best_value_hc3, trajectory_hc3 = hill_climbing(\n",
    "    VALUES, WEIGHTS, CONSTRAINTS, rng,\n",
    "    max_iterations=15000,\n",
    ")\n",
    "elapsed = time.perf_counter() - start\n",
    "print(\"[HC-3] Best value:\", int(best_value_hc3))\n",
    "print(\"[HC-3] Feasible:\", is_feasible_assignment(best_assignment_hc3, WEIGHTS, CONSTRAINTS))\n",
    "print(\"[HC-3] Items assigned:\", int(np.sum(best_assignment_hc3 >= 0)), \"/\", len(best_assignment_hc3))\n",
    "print(f\"[HC-3] Time: {elapsed:.2f}s\")\n",
    "\n"
   ]
  },
  {
   "cell_type": "code",
   "execution_count": null,
   "id": "4da27521",
   "metadata": {},
   "outputs": [
    {
     "ename": "KeyboardInterrupt",
     "evalue": "",
     "output_type": "error",
     "traceback": [
      "\u001b[31m---------------------------------------------------------------------------\u001b[39m",
      "\u001b[31mKeyboardInterrupt\u001b[39m                         Traceback (most recent call last)",
      "\u001b[36mCell\u001b[39m\u001b[36m \u001b[39m\u001b[32mIn[10]\u001b[39m\u001b[32m, line 4\u001b[39m\n\u001b[32m      2\u001b[39m rng = np.random.default_rng(\u001b[32m123\u001b[39m)\n\u001b[32m      3\u001b[39m start = time.perf_counter()\n\u001b[32m----> \u001b[39m\u001b[32m4\u001b[39m best_assignment_ts3, best_value_ts3, trajectory_ts3 = \u001b[43mtabu_search\u001b[49m\u001b[43m(\u001b[49m\n\u001b[32m      5\u001b[39m \u001b[43m    \u001b[49m\u001b[43mVALUES\u001b[49m\u001b[43m,\u001b[49m\u001b[43m \u001b[49m\u001b[43mWEIGHTS\u001b[49m\u001b[43m,\u001b[49m\u001b[43m \u001b[49m\u001b[43mCONSTRAINTS\u001b[49m\u001b[43m,\u001b[49m\u001b[43m \u001b[49m\u001b[43mrng\u001b[49m\u001b[43m,\u001b[49m\n\u001b[32m      6\u001b[39m \u001b[43m    \u001b[49m\u001b[43mmax_iterations\u001b[49m\u001b[43m=\u001b[49m\u001b[32;43m15000\u001b[39;49m\u001b[43m,\u001b[49m\n\u001b[32m      7\u001b[39m \u001b[43m    \u001b[49m\u001b[43mtabu_tenure\u001b[49m\u001b[43m=\u001b[49m\u001b[32;43m15\u001b[39;49m\u001b[43m,\u001b[49m\n\u001b[32m      8\u001b[39m \u001b[43m    \u001b[49m\u001b[43mcandidate_items\u001b[49m\u001b[43m=\u001b[49m\u001b[32;43m50\u001b[39;49m\u001b[43m,\u001b[49m\n\u001b[32m      9\u001b[39m \u001b[43m)\u001b[49m\n\u001b[32m     10\u001b[39m elapsed = time.perf_counter() - start\n\u001b[32m     11\u001b[39m \u001b[38;5;28mprint\u001b[39m(\u001b[33m\"\u001b[39m\u001b[33m[Tabu-3] Best value:\u001b[39m\u001b[33m\"\u001b[39m, \u001b[38;5;28mint\u001b[39m(best_value_ts3))\n",
      "\u001b[36mFile \u001b[39m\u001b[32mc:\\Users\\siava\\Desktop\\Third Semester\\comput_int\\labs\\CI2025_lab1\\solvers.py:247\u001b[39m, in \u001b[36mtabu_search\u001b[39m\u001b[34m(values, weights, constraints, rng, max_iterations, tabu_tenure, candidate_items)\u001b[39m\n\u001b[32m    245\u001b[39m     \u001b[38;5;28;01mif\u001b[39;00m current_value > best_value:\n\u001b[32m    246\u001b[39m         best_value = current_value\n\u001b[32m--> \u001b[39m\u001b[32m247\u001b[39m         best_assignment = \u001b[43mcurrent_assignment\u001b[49m\u001b[43m.\u001b[49m\u001b[43mcopy\u001b[49m\u001b[43m(\u001b[49m\u001b[43m)\u001b[49m\n\u001b[32m    249\u001b[39m     trajectory.append(best_value)\n\u001b[32m    251\u001b[39m \u001b[38;5;28;01mreturn\u001b[39;00m best_assignment, best_value, trajectory\n",
      "\u001b[31mKeyboardInterrupt\u001b[39m: "
     ]
    }
   ],
   "source": [
    "# Run Tabu Search\n",
    "rng = np.random.default_rng(123)\n",
    "start = time.perf_counter()\n",
    "best_assignment_ts3, best_value_ts3, trajectory_ts3 = tabu_search(\n",
    "    VALUES, WEIGHTS, CONSTRAINTS, rng,\n",
    "    max_iterations=15000,\n",
    "    tabu_tenure=15,\n",
    "    candidate_items=50,\n",
    ")\n",
    "elapsed = time.perf_counter() - start\n",
    "print(\"[Tabu-3] Best value:\", int(best_value_ts3))\n",
    "print(\"[Tabu-3] Feasible:\", is_feasible_assignment(best_assignment_ts3, WEIGHTS, CONSTRAINTS))\n",
    "print(\"[Tabu-3] Items assigned:\", int(np.sum(best_assignment_ts3 >= 0)), \"/\", len(best_assignment_ts3))\n",
    "print(f\"[Tabu-3] Time: {elapsed:.2f}s\")\n",
    "\n"
   ]
  },
  {
   "cell_type": "code",
   "execution_count": null,
   "id": "436793d3",
   "metadata": {},
   "outputs": [
    {
     "name": "stdout",
     "output_type": "stream",
     "text": [
      "[ILS-3] Best value: 1823710\n",
      "[ILS-3] Feasible: True\n",
      "[ILS-3] Items assigned: 2439 / 5000\n",
      "[ILS-3] Time: 236.00s\n"
     ]
    }
   ],
   "source": [
    "# Run Iterated Local Search (ILS)\n",
    "rng = np.random.default_rng(123)\n",
    "start = time.perf_counter()\n",
    "best_assignment_ils3, best_value_ils3, trajectory_ils3 = iterated_local_search(\n",
    "    VALUES, WEIGHTS, CONSTRAINTS, rng,\n",
    "    outer_iterations=80,\n",
    "    perturbation_strength=8,\n",
    "    max_hc_iterations=12000,\n",
    ")\n",
    "elapsed = time.perf_counter() - start\n",
    "print(\"[ILS-3] Best value:\", int(best_value_ils3))\n",
    "print(\"[ILS-3] Feasible:\", is_feasible_assignment(best_assignment_ils3, WEIGHTS, CONSTRAINTS))\n",
    "print(\"[ILS-3] Items assigned:\", int(np.sum(best_assignment_ils3 >= 0)), \"/\", len(best_assignment_ils3))\n",
    "print(f\"[ILS-3] Time: {elapsed:.2f}s\")\n",
    "\n"
   ]
  },
  {
   "cell_type": "code",
   "execution_count": null,
   "id": "f2349244",
   "metadata": {},
   "outputs": [
    {
     "name": "stdout",
     "output_type": "stream",
     "text": [
      "[SA-3] Best value: 1859420\n",
      "[SA-3] Feasible: True\n",
      "[SA-3] Items assigned: 2580 / 5000\n",
      "[SA-3] Time: 49.83s\n"
     ]
    }
   ],
   "source": [
    "# Run Simulated Annealing (SA) \n",
    "rng = np.random.default_rng(123)\n",
    "start = time.perf_counter()\n",
    "best_assignment_sa3, best_value_sa3, trajectory_sa3 = simulated_annealing(\n",
    "    VALUES, WEIGHTS, CONSTRAINTS, rng,\n",
    "    max_iterations=20000,\n",
    "    start_temperature=1.5,\n",
    "    end_temperature=0.05,\n",
    "    candidate_items=80,\n",
    ")\n",
    "elapsed = time.perf_counter() - start\n",
    "print(\"[SA-3] Best value:\", int(best_value_sa3))\n",
    "print(\"[SA-3] Feasible:\", is_feasible_assignment(best_assignment_sa3, WEIGHTS, CONSTRAINTS))\n",
    "print(\"[SA-3] Items assigned:\", int(np.sum(best_assignment_sa3 >= 0)), \"/\", len(best_assignment_sa3))\n",
    "print(f\"[SA-3] Time: {elapsed:.2f}s\")\n",
    "\n"
   ]
  }
 ],
 "metadata": {
  "kernelspec": {
   "display_name": ".venv",
   "language": "python",
   "name": "python3"
  },
  "language_info": {
   "codemirror_mode": {
    "name": "ipython",
    "version": 3
   },
   "file_extension": ".py",
   "mimetype": "text/x-python",
   "name": "python",
   "nbconvert_exporter": "python",
   "pygments_lexer": "ipython3",
   "version": "3.13.5"
  }
 },
 "nbformat": 4,
 "nbformat_minor": 5
}

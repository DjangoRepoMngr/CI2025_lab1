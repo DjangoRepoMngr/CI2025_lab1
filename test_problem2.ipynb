{
 "cells": [
  {
   "cell_type": "code",
   "execution_count": 1,
   "id": "c0882a9f",
   "metadata": {},
   "outputs": [],
   "source": [
    "import numpy as np"
   ]
  },
  {
   "cell_type": "markdown",
   "id": "8e0e0673",
   "metadata": {},
   "source": [
    "## TEST PROBLEMS"
   ]
  },
  {
   "cell_type": "code",
   "execution_count": 2,
   "id": "9eed08a0",
   "metadata": {},
   "outputs": [],
   "source": [
    "# Problem 2:\n",
    "rng = np.random.default_rng(seed=42)\n",
    "NUM_KNAPSACKS = 10\n",
    "NUM_ITEMS = 100\n",
    "NUM_DIMENSIONS = 10\n",
    "VALUES = rng.integers(0, 1000, size=NUM_ITEMS)\n",
    "WEIGHTS = rng.integers(0, 1000, size=(NUM_ITEMS, NUM_DIMENSIONS))\n",
    "CONSTRAINTS = rng.integers(\n",
    "    1000 * 2, 1000 * NUM_ITEMS // NUM_KNAPSACKS, size=(NUM_KNAPSACKS, NUM_DIMENSIONS)\n",
    ")"
   ]
  },
  {
   "cell_type": "code",
   "execution_count": 3,
   "id": "25b6f76a",
   "metadata": {},
   "outputs": [],
   "source": [
    "from solvers import hill_climbing, tabu_search, iterated_local_search, simulated_annealing, is_feasible_assignment\n"
   ]
  },
  {
   "cell_type": "code",
   "execution_count": null,
   "id": "20e592bb",
   "metadata": {},
   "outputs": [
    {
     "name": "stdout",
     "output_type": "stream",
     "text": [
      "[HC-2] Best value: 42291\n",
      "[HC-2] Feasible: True\n",
      "[HC-2] Items assigned: 63 / 100\n"
     ]
    }
   ],
   "source": [
    "# Run naive hill climbing\n",
    "rng = np.random.default_rng(123)\n",
    "best_assignment_hc2, best_value_hc2, trajectory_hc2 = hill_climbing(\n",
    "    VALUES, WEIGHTS, CONSTRAINTS, rng,\n",
    "    max_iterations=20000,\n",
    ")\n",
    "print(\"[HC-2] Best value:\", int(best_value_hc2))\n",
    "print(\"[HC-2] Feasible:\", is_feasible_assignment(best_assignment_hc2, WEIGHTS, CONSTRAINTS))\n",
    "print(\"[HC-2] Items assigned:\", int(np.sum(best_assignment_hc2 >= 0)), \"/\", len(best_assignment_hc2))\n",
    "\n"
   ]
  },
  {
   "cell_type": "code",
   "execution_count": null,
   "id": "99774969",
   "metadata": {},
   "outputs": [
    {
     "name": "stdout",
     "output_type": "stream",
     "text": [
      "[Tabu-2] Best value: 51554\n",
      "[Tabu-2] Feasible: True\n",
      "[Tabu-2] Items assigned: 90 / 100\n"
     ]
    }
   ],
   "source": [
    "# Run Tabu Search on Problem \n",
    "rng = np.random.default_rng(123)\n",
    "best_assignment_ts2, best_value_ts2, trajectory_ts2 = tabu_search(\n",
    "    VALUES, WEIGHTS, CONSTRAINTS, rng,\n",
    "    max_iterations=30000,\n",
    "    tabu_tenure=20,\n",
    "    candidate_items=400,\n",
    ")\n",
    "print(\"[Tabu-2] Best value:\", int(best_value_ts2))\n",
    "print(\"[Tabu-2] Feasible:\", is_feasible_assignment(best_assignment_ts2, WEIGHTS, CONSTRAINTS))\n",
    "print(\"[Tabu-2] Items assigned:\", int(np.sum(best_assignment_ts2 >= 0)), \"/\", len(best_assignment_ts2))\n",
    "\n"
   ]
  },
  {
   "cell_type": "code",
   "execution_count": null,
   "id": "709a8122",
   "metadata": {},
   "outputs": [
    {
     "name": "stdout",
     "output_type": "stream",
     "text": [
      "[ILS-2] Best value: 42291\n",
      "[ILS-2] Feasible: True\n",
      "[ILS-2] Items assigned: 63 / 100\n"
     ]
    }
   ],
   "source": [
    "# Run Iterated Local Search (ILS)\n",
    "rng = np.random.default_rng(123)\n",
    "best_assignment_ils2, best_value_ils2, trajectory_ils2 = iterated_local_search(\n",
    "    VALUES, WEIGHTS, CONSTRAINTS, rng,\n",
    "    outer_iterations=100,\n",
    "    perturbation_strength=5,\n",
    "    max_hc_iterations=15000,\n",
    ")\n",
    "print(\"[ILS-2] Best value:\", int(best_value_ils2))\n",
    "print(\"[ILS-2] Feasible:\", is_feasible_assignment(best_assignment_ils2, WEIGHTS, CONSTRAINTS))\n",
    "print(\"[ILS-2] Items assigned:\", int(np.sum(best_assignment_ils2 >= 0)), \"/\", len(best_assignment_ils2))\n",
    "\n"
   ]
  },
  {
   "cell_type": "code",
   "execution_count": null,
   "id": "e66c6e12",
   "metadata": {},
   "outputs": [
    {
     "name": "stdout",
     "output_type": "stream",
     "text": [
      "[SA-2] Best value: 43991\n",
      "[SA-2] Feasible: True\n",
      "[SA-2] Items assigned: 69 / 100\n"
     ]
    }
   ],
   "source": [
    "# Run Simulated Annealing (SA) \n",
    "rng = np.random.default_rng(123)\n",
    "best_assignment_sa2, best_value_sa2, trajectory_sa2 = simulated_annealing(\n",
    "    VALUES, WEIGHTS, CONSTRAINTS, rng,\n",
    "    max_iterations=50000,\n",
    "    start_temperature=2.0,\n",
    "    end_temperature=0.01,\n",
    "    candidate_items=400,\n",
    ")\n",
    "print(\"[SA-2] Best value:\", int(best_value_sa2))\n",
    "print(\"[SA-2] Feasible:\", is_feasible_assignment(best_assignment_sa2, WEIGHTS, CONSTRAINTS))\n",
    "print(\"[SA-2] Items assigned:\", int(np.sum(best_assignment_sa2 >= 0)), \"/\", len(best_assignment_sa2))\n",
    "\n"
   ]
  }
 ],
 "metadata": {
  "kernelspec": {
   "display_name": ".venv",
   "language": "python",
   "name": "python3"
  },
  "language_info": {
   "codemirror_mode": {
    "name": "ipython",
    "version": 3
   },
   "file_extension": ".py",
   "mimetype": "text/x-python",
   "name": "python",
   "nbconvert_exporter": "python",
   "pygments_lexer": "ipython3",
   "version": "3.13.5"
  }
 },
 "nbformat": 4,
 "nbformat_minor": 5
}

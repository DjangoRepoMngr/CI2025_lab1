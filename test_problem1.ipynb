{
 "cells": [
  {
   "cell_type": "code",
   "execution_count": 1,
   "id": "c0882a9f",
   "metadata": {},
   "outputs": [],
   "source": [
    "import numpy as np"
   ]
  },
  {
   "cell_type": "markdown",
   "id": "8e0e0673",
   "metadata": {},
   "source": [
    "## TEST PROBLEMS"
   ]
  },
  {
   "cell_type": "code",
   "execution_count": 2,
   "id": "5595db9c",
   "metadata": {},
   "outputs": [],
   "source": [
    "# Problem 1:\n",
    "rng = np.random.default_rng(seed=42)\n",
    "NUM_KNAPSACKS = 3\n",
    "NUM_ITEMS = 20\n",
    "NUM_DIMENSIONS = 2\n",
    "VALUES = rng.integers(0, 100, size=NUM_ITEMS)\n",
    "WEIGHTS = rng.integers(0, 100, size=(NUM_ITEMS, NUM_DIMENSIONS))\n",
    "CONSTRAINTS = rng.integers(\n",
    "    0, 100 * NUM_ITEMS // NUM_KNAPSACKS, size=(NUM_KNAPSACKS, NUM_DIMENSIONS)\n",
    ")"
   ]
  },
  {
   "cell_type": "code",
   "execution_count": null,
   "id": "46d507bb",
   "metadata": {},
   "outputs": [],
   "source": [
    "\n",
    "from solvers import hill_climbing, tabu_search, iterated_local_search, simulated_annealing, is_feasible_assignment\n",
    "\n"
   ]
  },
  {
   "cell_type": "code",
   "execution_count": null,
   "id": "7df09680",
   "metadata": {},
   "outputs": [
    {
     "name": "stdout",
     "output_type": "stream",
     "text": [
      "[hill climbing]Best value: 1057\n",
      "[hill climbing]Feasible: True\n",
      "[hill climbing]Items assigned: 19 / 20\n"
     ]
    }
   ],
   "source": [
    "# naive hill climbing (single run)\n",
    "rng = np.random.default_rng(123)\n",
    "best_assignment, best_value, trajectory = hill_climbing(\n",
    "    VALUES, WEIGHTS, CONSTRAINTS, rng,\n",
    "    max_iterations=5000,\n",
    ")\n",
    "print(\"[hill climbing]Best value:\", int(best_value))\n",
    "print(\"[hill climbing]Feasible:\", is_feasible_assignment(best_assignment, WEIGHTS, CONSTRAINTS))\n",
    "print(\"[hill climbing]Items assigned:\", int(np.sum(best_assignment >= 0)), \"/\", len(best_assignment))\n",
    "\n"
   ]
  },
  {
   "cell_type": "code",
   "execution_count": null,
   "id": "f5c33ce9",
   "metadata": {},
   "outputs": [
    {
     "name": "stdout",
     "output_type": "stream",
     "text": [
      "[Tabu] Best value: 1065\n",
      "[Tabu] Feasible: True\n",
      "[Tabu] Items assigned: 20 / 20\n"
     ]
    }
   ],
   "source": [
    "# Run Tabu Search \n",
    "rng = np.random.default_rng(123)\n",
    "best_assignment_ts, best_value_ts, trajectory_ts = tabu_search(\n",
    "    VALUES, WEIGHTS, CONSTRAINTS, rng,\n",
    "    max_iterations=10000,\n",
    "    tabu_tenure=10,\n",
    "    candidate_items=200,\n",
    ")\n",
    "print(\"[Tabu] Best value:\", int(best_value_ts))\n",
    "print(\"[Tabu] Feasible:\", is_feasible_assignment(best_assignment_ts, WEIGHTS, CONSTRAINTS))\n",
    "print(\"[Tabu] Items assigned:\", int(np.sum(best_assignment_ts >= 0)), \"/\", len(best_assignment_ts))\n",
    "\n"
   ]
  },
  {
   "cell_type": "code",
   "execution_count": null,
   "id": "0d411ee6",
   "metadata": {},
   "outputs": [
    {
     "name": "stdout",
     "output_type": "stream",
     "text": [
      "[ILS] Best value: 1057\n",
      "[ILS] Feasible: True\n",
      "[ILS] Items assigned: 19 / 20\n"
     ]
    }
   ],
   "source": [
    "# Run Iterated Local Search (ILS)\n",
    "from solvers import iterated_local_search\n",
    "\n",
    "rng = np.random.default_rng(123)\n",
    "best_assignment_ils, best_value_ils, trajectory_ils = iterated_local_search(\n",
    "    VALUES, WEIGHTS, CONSTRAINTS, rng,\n",
    "    outer_iterations=50,\n",
    "    perturbation_strength=3,\n",
    "    max_hc_iterations=5000,\n",
    ")\n",
    "print(\"[ILS] Best value:\", int(best_value_ils))\n",
    "print(\"[ILS] Feasible:\", is_feasible_assignment(best_assignment_ils, WEIGHTS, CONSTRAINTS))\n",
    "print(\"[ILS] Items assigned:\", int(np.sum(best_assignment_ils >= 0)), \"/\", len(best_assignment_ils))\n",
    "\n"
   ]
  },
  {
   "cell_type": "code",
   "execution_count": null,
   "id": "823e886e",
   "metadata": {},
   "outputs": [
    {
     "name": "stdout",
     "output_type": "stream",
     "text": [
      "[SA] Best value: 1065\n",
      "[SA] Feasible: True\n",
      "[SA] Items assigned: 20 / 20\n"
     ]
    }
   ],
   "source": [
    "# Run Simulated Annealing \n",
    "rng = np.random.default_rng(123)\n",
    "best_assignment_sa, best_value_sa, trajectory_sa = simulated_annealing(\n",
    "    VALUES, WEIGHTS, CONSTRAINTS, rng,\n",
    "    max_iterations=20000,\n",
    "    start_temperature=1.0,\n",
    "    end_temperature=0.01,\n",
    "    candidate_items=200,\n",
    ")\n",
    "print(\"[SA] Best value:\", int(best_value_sa))\n",
    "print(\"[SA] Feasible:\", is_feasible_assignment(best_assignment_sa, WEIGHTS, CONSTRAINTS))\n",
    "print(\"[SA] Items assigned:\", int(np.sum(best_assignment_sa >= 0)), \"/\", len(best_assignment_sa))\n",
    "\n"
   ]
  }
 ],
 "metadata": {
  "kernelspec": {
   "display_name": ".venv",
   "language": "python",
   "name": "python3"
  },
  "language_info": {
   "codemirror_mode": {
    "name": "ipython",
    "version": 3
   },
   "file_extension": ".py",
   "mimetype": "text/x-python",
   "name": "python",
   "nbconvert_exporter": "python",
   "pygments_lexer": "ipython3",
   "version": "3.13.5"
  }
 },
 "nbformat": 4,
 "nbformat_minor": 5
}
